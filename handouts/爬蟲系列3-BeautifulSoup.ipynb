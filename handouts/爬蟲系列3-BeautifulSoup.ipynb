{
 "cells": [
  {
   "cell_type": "markdown",
   "metadata": {},
   "source": [
    "#  BeautifulSoup \n",
    "## 常用執行步驟與函數\n"
   ]
  },
  {
   "cell_type": "code",
   "execution_count": 1,
   "metadata": {},
   "outputs": [],
   "source": [
    "# Example html code\n",
    "html_doc = \"\"\"\n",
    "<html><head><title>The NCDR history</title></head>\n",
    "<body>\n",
    "<p class=\"title\"><b>The NCDR history1</b><b>The NCDR history2</b></p>\n",
    "<p class=\"story\">Once upon a time there were three little sisters; and their names were\n",
    "<a href=\"http://example.com/elsie\" class=\"sister\" id=\"link1\">Elsie</a>,\n",
    "<a href=\"http://example.com/lacie\" class=\"sister\" id=\"link2\">Lacie</a> and\n",
    "<a href=\"http://example.com/tillie\" class=\"sister\" id=\"link3\">Tillie</a>;\n",
    "and they lived at the bottom of a well.</p>\n",
    "\n",
    "<p class=\"story\">...</p>\n",
    "\"\"\""
   ]
  },
  {
   "cell_type": "markdown",
   "metadata": {},
   "source": [
    "## 萬年起首式\n",
    "![](https://i.imgur.com/cqoMN6s.png)"
   ]
  },
  {
   "cell_type": "code",
   "execution_count": 2,
   "metadata": {},
   "outputs": [
    {
     "name": "stdout",
     "output_type": "stream",
     "text": [
      "<html>\n",
      " <head>\n",
      "  <title>\n",
      "   The NCDR history\n",
      "  </title>\n",
      " </head>\n",
      " <body>\n",
      "  <p class=\"title\">\n",
      "   <b>\n",
      "    The NCDR history1\n",
      "   </b>\n",
      "   <b>\n",
      "    The NCDR history2\n",
      "   </b>\n",
      "  </p>\n",
      "  <p class=\"story\">\n",
      "   Once upon a time there were three little sisters; and their names were\n",
      "   <a class=\"sister\" href=\"http://example.com/elsie\" id=\"link1\">\n",
      "    Elsie\n",
      "   </a>\n",
      "   ,\n",
      "   <a class=\"sister\" href=\"http://example.com/lacie\" id=\"link2\">\n",
      "    Lacie\n",
      "   </a>\n",
      "   and\n",
      "   <a class=\"sister\" href=\"http://example.com/tillie\" id=\"link3\">\n",
      "    Tillie\n",
      "   </a>\n",
      "   ;\n",
      "and they lived at the bottom of a well.\n",
      "  </p>\n",
      "  <p class=\"story\">\n",
      "   ...\n",
      "  </p>\n",
      " </body>\n",
      "</html>\n"
     ]
    }
   ],
   "source": [
    "from bs4 import BeautifulSoup\n",
    "soup = BeautifulSoup(html_doc,\"lxml\")\n",
    "print(soup.prettify())"
   ]
  },
  {
   "cell_type": "code",
   "execution_count": 3,
   "metadata": {},
   "outputs": [
    {
     "name": "stdout",
     "output_type": "stream",
     "text": [
      "The NCDR history\n",
      "\n",
      "The NCDR history1The NCDR history2\n",
      "Once upon a time there were three little sisters; and their names were\n",
      "Elsie,\n",
      "Lacie and\n",
      "Tillie;\n",
      "and they lived at the bottom of a well.\n",
      "...\n",
      "\n"
     ]
    }
   ],
   "source": [
    "from IPython.core.interactiveshell import InteractiveShell\n",
    "InteractiveShell.ast_node_interactivity = \"all\"\n",
    "1\n",
    "soup.title # <title>The NCDR history</title>\n",
    "2\n",
    "soup.title.name # u'title' .name => 標籤名稱\n",
    "3\n",
    "soup.title.string # u'The NCDR history' .string => 標籤內容\n",
    "4\n",
    "soup.title.parent.name # u'head'\n",
    "5\n",
    "soup.p # <p class=\"title\"><b>The NCDR history</b></p>\n",
    "6\n",
    "soup.p['class'] # u'title'\n",
    "7\n",
    "soup.a # <a class=\"sister\" href=\"http://example.com/elsie\" id=\"link1\">Elsie</a>\n",
    "8\n",
    "soup.find_all('a')\n",
    "# [<a class=\"sister\" href=\"http://example.com/elsie\" id=\"link1\">Elsie</a>,\n",
    "#  <a class=\"sister\" href=\"http://example.com/lacie\" id=\"link2\">Lacie</a>,\n",
    "#  <a class=\"sister\" href=\"http://example.com/tillie\" id=\"link3\">Tillie</a>]\n",
    "9\n",
    "soup.find(id=\"link3\")  # <a class=\"sister\" href=\"http://example.com/tillie\" id=\"link3\">Tillie</a>\n",
    "10\n",
    "print(soup.get_text()) #印出所有文字"
   ]
  },
  {
   "cell_type": "code",
   "execution_count": 5,
   "metadata": {},
   "outputs": [
    {
     "data": {
      "text/plain": [
       "[<a class=\"sister\" href=\"http://example.com/elsie\" id=\"link1\">Elsie</a>,\n",
       " <a class=\"sister\" href=\"http://example.com/lacie\" id=\"link2\">Lacie</a>,\n",
       " <a class=\"sister\" href=\"http://example.com/tillie\" id=\"link3\">Tillie</a>]"
      ]
     },
     "execution_count": 5,
     "metadata": {},
     "output_type": "execute_result"
    }
   ],
   "source": [
    "soup.find_all('a')"
   ]
  },
  {
   "cell_type": "markdown",
   "metadata": {},
   "source": [
    "### 練習一:\n",
    "使用上方這組parse過的資料，獲取文件中的超連結。 <br>\n",
    "提示: <br>\n",
    ".find_all() <br>\n",
    "XXX[] => 取出搜尋到的標籤的屬性值    or .get('href')"
   ]
  },
  {
   "cell_type": "code",
   "execution_count": 13,
   "metadata": {},
   "outputs": [
    {
     "name": "stdout",
     "output_type": "stream",
     "text": [
      "http://example.com/elsie\n",
      "http://example.com/lacie\n",
      "http://example.com/tillie\n"
     ]
    }
   ],
   "source": [
    "for link in soup.find_all('a'):\n",
    "    print(link['href'])\n",
    "#[link['href'] for link in soup.find_all('a')]"
   ]
  },
  {
   "cell_type": "markdown",
   "metadata": {},
   "source": [
    "## BeautifulSoup 架構介紹\n",
    "Beautiful Soup將復雜的HTML文檔轉換成一個複雜的樹形結構，每個節點都是Python對象，所有對象可以歸納為4種：\n",
    "* Tag\n",
    "* NavigableString\n",
    "* BeautifulSoup \n",
    "* Comment\n",
    "\n",
    "### Tag => 請以樹狀結構去想像\n",
    "基本操作\n",
    "1. 取標籤\n",
    "2. 取標籤值\n",
    "3. 取屬性\n",
    "4. 取屬性值"
   ]
  },
  {
   "cell_type": "code",
   "execution_count": 16,
   "metadata": {},
   "outputs": [
    {
     "data": {
      "text/plain": [
       "1"
      ]
     },
     "execution_count": 16,
     "metadata": {},
     "output_type": "execute_result"
    },
    {
     "data": {
      "text/plain": [
       "bs4.element.Tag"
      ]
     },
     "execution_count": 16,
     "metadata": {},
     "output_type": "execute_result"
    },
    {
     "data": {
      "text/plain": [
       "'b'"
      ]
     },
     "execution_count": 16,
     "metadata": {},
     "output_type": "execute_result"
    },
    {
     "data": {
      "text/plain": [
       "2"
      ]
     },
     "execution_count": 16,
     "metadata": {},
     "output_type": "execute_result"
    },
    {
     "data": {
      "text/plain": [
       "{'class': ['boldest']}"
      ]
     },
     "execution_count": 16,
     "metadata": {},
     "output_type": "execute_result"
    },
    {
     "data": {
      "text/plain": [
       "3"
      ]
     },
     "execution_count": 16,
     "metadata": {},
     "output_type": "execute_result"
    },
    {
     "data": {
      "text/plain": [
       "['boldest']"
      ]
     },
     "execution_count": 16,
     "metadata": {},
     "output_type": "execute_result"
    }
   ],
   "source": [
    "soup1 = BeautifulSoup('<b class=\"boldest\">Extremely bold</b>', \"lxml\")\n",
    "1\n",
    "tag = soup1.b\n",
    "type(tag)\n",
    "tag.name #可以改變 tag 名稱，但會影響之後的呼叫\n",
    "2\n",
    "tag.attrs #獲取屬性\n",
    "3\n",
    "tag['class']#獲取屬性值"
   ]
  },
  {
   "cell_type": "markdown",
   "metadata": {},
   "source": [
    "樹狀結構進階，僅介紹 \"子\"屬性， parent, sibling，element 有需求再去看官方文件。\n",
    "\n",
    "單層\n",
    "* **.contents**: Tag的屬性，可以將標籤的子節點以list的方式輸出。\n",
    "* **.children**: 用此屬性可以建立 fot loop 針對該標籤的子節點做動作。 \n",
    "\n",
    "多層\n",
    "\n",
    "* **.descendants**: 對所有標籤的子孫節點進行遞歸循環"
   ]
  },
  {
   "cell_type": "code",
   "execution_count": 17,
   "metadata": {},
   "outputs": [
    {
     "data": {
      "text/plain": [
       "1"
      ]
     },
     "execution_count": 17,
     "metadata": {},
     "output_type": "execute_result"
    },
    {
     "data": {
      "text/plain": [
       "<p class=\"title\"><b>The NCDR history1</b><b>The NCDR history2</b></p>"
      ]
     },
     "execution_count": 17,
     "metadata": {},
     "output_type": "execute_result"
    },
    {
     "data": {
      "text/plain": [
       "2"
      ]
     },
     "execution_count": 17,
     "metadata": {},
     "output_type": "execute_result"
    },
    {
     "data": {
      "text/plain": [
       "[<b>The NCDR history1</b>, <b>The NCDR history2</b>]"
      ]
     },
     "execution_count": 17,
     "metadata": {},
     "output_type": "execute_result"
    },
    {
     "data": {
      "text/plain": [
       "3"
      ]
     },
     "execution_count": 17,
     "metadata": {},
     "output_type": "execute_result"
    },
    {
     "data": {
      "text/plain": [
       "<b>The NCDR history1</b>"
      ]
     },
     "execution_count": 17,
     "metadata": {},
     "output_type": "execute_result"
    },
    {
     "data": {
      "text/plain": [
       "4"
      ]
     },
     "execution_count": 17,
     "metadata": {},
     "output_type": "execute_result"
    },
    {
     "data": {
      "text/plain": [
       "['The NCDR history']"
      ]
     },
     "execution_count": 17,
     "metadata": {},
     "output_type": "execute_result"
    },
    {
     "data": {
      "text/plain": [
       "5"
      ]
     },
     "execution_count": 17,
     "metadata": {},
     "output_type": "execute_result"
    },
    {
     "data": {
      "text/plain": [
       "'html'"
      ]
     },
     "execution_count": 17,
     "metadata": {},
     "output_type": "execute_result"
    }
   ],
   "source": [
    "# .contents\n",
    "1\n",
    "head_tag = soup.p\n",
    "head_tag \n",
    "2\n",
    "head_tag.contents\n",
    "3\n",
    "head_tag.contents[0] \n",
    "4\n",
    "title_tag = soup.title\n",
    "title_tag.contents \n",
    "5 # soup 本身也有子節點\n",
    "soup.contents[0].name"
   ]
  },
  {
   "cell_type": "code",
   "execution_count": 18,
   "metadata": {},
   "outputs": [
    {
     "data": {
      "text/plain": [
       "list_iterator"
      ]
     },
     "execution_count": 18,
     "metadata": {},
     "output_type": "execute_result"
    },
    {
     "name": "stdout",
     "output_type": "stream",
     "text": [
      "The NCDR history\n",
      "length of .children =  1\n"
     ]
    },
    {
     "data": {
      "text/plain": [
       "generator"
      ]
     },
     "execution_count": 18,
     "metadata": {},
     "output_type": "execute_result"
    },
    {
     "name": "stdout",
     "output_type": "stream",
     "text": [
      "<b>The NCDR history1</b>\n",
      "The NCDR history1\n",
      "<b>The NCDR history2</b>\n",
      "The NCDR history2\n",
      "length of .decendents =  28\n"
     ]
    }
   ],
   "source": [
    "# .children \n",
    "type(title_tag.children)\n",
    "for child in title_tag.children:\n",
    "    print(child)\n",
    "print(\"length of .children = \",len(list(soup.children)))\n",
    "\n",
    "# .descendants\n",
    "type(title_tag.descendants)\n",
    "for child in head_tag.descendants:\n",
    "    print(child)\n",
    "print(\"length of .decendents = \",len(list(soup.descendants)))"
   ]
  },
  {
   "cell_type": "markdown",
   "metadata": {},
   "source": [
    "### NavigableString\n",
    "tag中的字符串，且字符串與Python的中的的Unicode字符串相同，並且**還包含在遍歷文檔和搜尋文檔樹中的一些特性**。\n",
    "如果想在Beautiful Soup之外使用NavigableString對象，需要調用unicode（）方法，將該對象轉換成普通的Unicode字符串，否則就算Beautiful Soup已經執行結束，該對象的輸出也會帶有對象的引用地址。這樣會浪費內存。"
   ]
  },
  {
   "cell_type": "code",
   "execution_count": 19,
   "metadata": {},
   "outputs": [
    {
     "data": {
      "text/plain": [
       "<b class=\"boldest\">Extremely bold</b>"
      ]
     },
     "execution_count": 19,
     "metadata": {},
     "output_type": "execute_result"
    },
    {
     "data": {
      "text/plain": [
       "1"
      ]
     },
     "execution_count": 19,
     "metadata": {},
     "output_type": "execute_result"
    },
    {
     "data": {
      "text/plain": [
       "'Extremely bold'"
      ]
     },
     "execution_count": 19,
     "metadata": {},
     "output_type": "execute_result"
    },
    {
     "data": {
      "text/plain": [
       "bs4.element.NavigableString"
      ]
     },
     "execution_count": 19,
     "metadata": {},
     "output_type": "execute_result"
    },
    {
     "data": {
      "text/plain": [
       "2"
      ]
     },
     "execution_count": 19,
     "metadata": {},
     "output_type": "execute_result"
    },
    {
     "data": {
      "text/plain": [
       "'Extremely bold'"
      ]
     },
     "execution_count": 19,
     "metadata": {},
     "output_type": "execute_result"
    },
    {
     "data": {
      "text/plain": [
       "str"
      ]
     },
     "execution_count": 19,
     "metadata": {},
     "output_type": "execute_result"
    }
   ],
   "source": [
    "tag\n",
    "1 # NavigableString\n",
    "tag.string # u'Extremely bold'\n",
    "type(tag.string) # <class 'bs4.element.NavigableString'>\n",
    "2 # unicode\n",
    "unicode_string = str(tag.string)  # unicode() for Python2\n",
    "unicode_string # u'Extremely bold'\n",
    "type(unicode_string) # <type 'unicode'>"
   ]
  },
  {
   "cell_type": "code",
   "execution_count": 10,
   "metadata": {},
   "outputs": [
    {
     "data": {
      "text/plain": [
       "1"
      ]
     },
     "execution_count": 10,
     "metadata": {},
     "output_type": "execute_result"
    },
    {
     "name": "stdout",
     "output_type": "stream",
     "text": [
      "'The NCDR history'\n",
      "'The NCDR history'\n",
      "'Once upon a time there were three little sisters; and their names were'\n",
      "'Elsie'\n",
      "','\n",
      "'Lacie'\n",
      "'and'\n",
      "'Tillie'\n",
      "';\\nand they lived at the bottom of a well.'\n",
      "'...'\n"
     ]
    },
    {
     "data": {
      "text/plain": [
       "2"
      ]
     },
     "execution_count": 10,
     "metadata": {},
     "output_type": "execute_result"
    },
    {
     "name": "stdout",
     "output_type": "stream",
     "text": [
      "'The NCDR history'\n",
      "'\\n'\n",
      "'\\n'\n",
      "'The NCDR history'\n",
      "'\\n'\n",
      "'Once upon a time there were three little sisters; and their names were\\n'\n",
      "'Elsie'\n",
      "',\\n'\n",
      "'Lacie'\n",
      "' and\\n'\n",
      "'Tillie'\n",
      "';\\nand they lived at the bottom of a well.'\n",
      "'\\n'\n",
      "'...'\n",
      "'\\n'\n"
     ]
    }
   ],
   "source": [
    "1 # .stripped_strings 可以去除多余空白内容\n",
    "for string in soup.stripped_strings:\n",
    "    print(repr(string))  #repr 轉成字串 for python\n",
    "2 # .strings 循環取得tag下多個字串\n",
    "for string in soup.strings:\n",
    "    print(repr(string))"
   ]
  },
  {
   "cell_type": "markdown",
   "metadata": {},
   "source": [
    "### BeautifulSoup\n",
    "指一個文檔的全部內容，但不完全等於Tag。"
   ]
  },
  {
   "cell_type": "code",
   "execution_count": 20,
   "metadata": {},
   "outputs": [
    {
     "data": {
      "text/plain": [
       "'[document]'"
      ]
     },
     "execution_count": 20,
     "metadata": {},
     "output_type": "execute_result"
    }
   ],
   "source": [
    "soup.name"
   ]
  },
  {
   "cell_type": "markdown",
   "metadata": {},
   "source": [
    "### Comment\n",
    "不再上述三類所定義的其他種類~ <br>\n",
    "<!--XXXXX--> 為html中的注釋"
   ]
  },
  {
   "cell_type": "code",
   "execution_count": 21,
   "metadata": {},
   "outputs": [
    {
     "data": {
      "text/plain": [
       "bs4.element.Comment"
      ]
     },
     "execution_count": 21,
     "metadata": {},
     "output_type": "execute_result"
    },
    {
     "data": {
      "text/plain": [
       "'Hey, buddy. Want to buy a used parser?'"
      ]
     },
     "execution_count": 21,
     "metadata": {},
     "output_type": "execute_result"
    }
   ],
   "source": [
    "markup = \"<b><!--Hey, buddy. Want to buy a used parser?--></b>\"\n",
    "soup2 = BeautifulSoup(markup,\"lxml\")\n",
    "comment = soup2.b.string\n",
    "type(comment)\n",
    "comment"
   ]
  },
  {
   "cell_type": "markdown",
   "metadata": {},
   "source": [
    "## BeautifulSoup 搜尋\n",
    "* find()\n",
    "* findall()\n",
    "* 自定義搜尋: Ture & False\n",
    "\n",
    "### 方法\n",
    "* str\n",
    "* list of str\n",
    "* regular expression\n"
   ]
  },
  {
   "cell_type": "code",
   "execution_count": 25,
   "metadata": {},
   "outputs": [
    {
     "data": {
      "text/plain": [
       "1"
      ]
     },
     "execution_count": 25,
     "metadata": {},
     "output_type": "execute_result"
    },
    {
     "data": {
      "text/plain": [
       "<a class=\"sister\" href=\"http://example.com/elsie\" id=\"link1\">Elsie</a>"
      ]
     },
     "execution_count": 25,
     "metadata": {},
     "output_type": "execute_result"
    },
    {
     "data": {
      "text/plain": [
       "2"
      ]
     },
     "execution_count": 25,
     "metadata": {},
     "output_type": "execute_result"
    },
    {
     "data": {
      "text/plain": [
       "[<a class=\"sister\" href=\"http://example.com/elsie\" id=\"link1\">Elsie</a>,\n",
       " <a class=\"sister\" href=\"http://example.com/lacie\" id=\"link2\">Lacie</a>,\n",
       " <a class=\"sister\" href=\"http://example.com/tillie\" id=\"link3\">Tillie</a>]"
      ]
     },
     "execution_count": 25,
     "metadata": {},
     "output_type": "execute_result"
    },
    {
     "data": {
      "text/plain": [
       "3"
      ]
     },
     "execution_count": 25,
     "metadata": {},
     "output_type": "execute_result"
    },
    {
     "data": {
      "text/plain": [
       "[<p class=\"title\"><b>The NCDR history1</b><b>The NCDR history2</b></p>,\n",
       " <p class=\"story\">Once upon a time there were three little sisters; and their names were\n",
       " <a class=\"sister\" href=\"http://example.com/elsie\" id=\"link1\">Elsie</a>,\n",
       " <a class=\"sister\" href=\"http://example.com/lacie\" id=\"link2\">Lacie</a> and\n",
       " <a class=\"sister\" href=\"http://example.com/tillie\" id=\"link3\">Tillie</a>;\n",
       " and they lived at the bottom of a well.</p>,\n",
       " <a class=\"sister\" href=\"http://example.com/elsie\" id=\"link1\">Elsie</a>,\n",
       " <a class=\"sister\" href=\"http://example.com/lacie\" id=\"link2\">Lacie</a>,\n",
       " <a class=\"sister\" href=\"http://example.com/tillie\" id=\"link3\">Tillie</a>,\n",
       " <p class=\"story\">...</p>]"
      ]
     },
     "execution_count": 25,
     "metadata": {},
     "output_type": "execute_result"
    },
    {
     "data": {
      "text/plain": [
       "4"
      ]
     },
     "execution_count": 25,
     "metadata": {},
     "output_type": "execute_result"
    },
    {
     "name": "stdout",
     "output_type": "stream",
     "text": [
      "html\n",
      "title\n"
     ]
    }
   ],
   "source": [
    "# 可搜尋形式\n",
    "import re\n",
    "1\n",
    "soup.find('a')\n",
    "2\n",
    "soup.find_all('a')\n",
    "3\n",
    "soup.find_all(['a','p'])\n",
    "4  #找出 tag 名稱中包含 t 的\n",
    "for tag in soup.find_all(re.compile(\"t\")):\n",
    "    print(tag.name)"
   ]
  },
  {
   "cell_type": "markdown",
   "metadata": {},
   "source": [
    "### find_all( name , attrs , recursive , text , **kwargs )\n",
    "* name: Tag\n",
    "* attrs: 屬性\n",
    "* text: 內文* \n",
    "* recursive = False 限制只搜尋子節點\n",
    "* limit = 2 限制搜尋比數為2"
   ]
  },
  {
   "cell_type": "code",
   "execution_count": 14,
   "metadata": {},
   "outputs": [
    {
     "data": {
      "text/plain": [
       "1"
      ]
     },
     "execution_count": 14,
     "metadata": {},
     "output_type": "execute_result"
    },
    {
     "data": {
      "text/plain": [
       "[<p class=\"title\"><b>The NCDR history</b></p>]"
      ]
     },
     "execution_count": 14,
     "metadata": {},
     "output_type": "execute_result"
    },
    {
     "data": {
      "text/plain": [
       "2"
      ]
     },
     "execution_count": 14,
     "metadata": {},
     "output_type": "execute_result"
    },
    {
     "data": {
      "text/plain": [
       "[<a class=\"sister\" href=\"http://example.com/lacie\" id=\"link2\">Lacie</a>]"
      ]
     },
     "execution_count": 14,
     "metadata": {},
     "output_type": "execute_result"
    },
    {
     "data": {
      "text/plain": [
       "3"
      ]
     },
     "execution_count": 14,
     "metadata": {},
     "output_type": "execute_result"
    },
    {
     "data": {
      "text/plain": [
       "[<a class=\"sister\" href=\"http://example.com/elsie\" id=\"link1\">Elsie</a>,\n",
       " <a class=\"sister\" href=\"http://example.com/lacie\" id=\"link2\">Lacie</a>,\n",
       " <a class=\"sister\" href=\"http://example.com/tillie\" id=\"link3\">Tillie</a>]"
      ]
     },
     "execution_count": 14,
     "metadata": {},
     "output_type": "execute_result"
    },
    {
     "data": {
      "text/plain": [
       "4"
      ]
     },
     "execution_count": 14,
     "metadata": {},
     "output_type": "execute_result"
    },
    {
     "data": {
      "text/plain": [
       "[<div data-foo=\"value\">foo!</div>]"
      ]
     },
     "execution_count": 14,
     "metadata": {},
     "output_type": "execute_result"
    },
    {
     "data": {
      "text/plain": [
       "5"
      ]
     },
     "execution_count": 14,
     "metadata": {},
     "output_type": "execute_result"
    },
    {
     "data": {
      "text/plain": [
       "['Elsie', 'Lacie', 'Tillie']"
      ]
     },
     "execution_count": 14,
     "metadata": {},
     "output_type": "execute_result"
    },
    {
     "data": {
      "text/plain": [
       "['The NCDR history', 'The NCDR history']"
      ]
     },
     "execution_count": 14,
     "metadata": {},
     "output_type": "execute_result"
    },
    {
     "data": {
      "text/plain": [
       "6"
      ]
     },
     "execution_count": 14,
     "metadata": {},
     "output_type": "execute_result"
    },
    {
     "data": {
      "text/plain": [
       "[<title>The NCDR history</title>]"
      ]
     },
     "execution_count": 14,
     "metadata": {},
     "output_type": "execute_result"
    },
    {
     "data": {
      "text/plain": [
       "[]"
      ]
     },
     "execution_count": 14,
     "metadata": {},
     "output_type": "execute_result"
    }
   ],
   "source": [
    "1 # p tag 中，有屬性 = title\n",
    "soup.find_all(\"p\", \"title\") \n",
    "2\n",
    "soup.find_all(id=\"link2\") # [<a class=\"sister\" href=\"http://example.com/lacie\" id=\"link2\">Lacie</a>]\n",
    "3 # class 為 python 中內定字，多加底線\n",
    "soup.find_all(class_=\"sister\") \n",
    "\n",
    "4 #特例: data-* 属性\n",
    "data_soup = BeautifulSoup('<div data-foo=\"value\">foo!</div>', \"lxml\")\n",
    "#data_soup.find_all(data-foo=\"value\")\n",
    "data_soup.find_all(attrs={\"data-foo\": \"value\"})\n",
    "\n",
    "5 # text 參數\n",
    "\n",
    "soup.find_all(text=[\"Tillie\", \"Elsie\", \"Lacie\"])\n",
    "soup.find_all(text=re.compile(\"NCDR\"))\n",
    "\n",
    "6 # recursive\n",
    "soup.html.find_all(\"title\") # [<title>The NCDR history</title>]\n",
    "soup.html.find_all(\"title\", recursive=False) # []"
   ]
  },
  {
   "cell_type": "code",
   "execution_count": 15,
   "metadata": {},
   "outputs": [
    {
     "data": {
      "text/plain": [
       "<title>The NCDR history</title>"
      ]
     },
     "execution_count": 15,
     "metadata": {},
     "output_type": "execute_result"
    },
    {
     "data": {
      "text/plain": [
       "<title>The NCDR history</title>"
      ]
     },
     "execution_count": 15,
     "metadata": {},
     "output_type": "execute_result"
    }
   ],
   "source": [
    "# 可以用此方式搜尋特定路徑 (下面有更好的特定路徑搜尋法)\n",
    "soup.head.title\n",
    "soup.find(\"head\").find(\"title\")"
   ]
  },
  {
   "cell_type": "markdown",
   "metadata": {},
   "source": [
    "### CSS選擇器  select()\n",
    "括號中的內容可以使用 chrome inspect(檢查) 中 copy selector，詳細其他用法可參考官方文件。 <br>\n",
    "下面我們就用 NCDR 的例子來試玩一次吧!<br>\n",
    "看看如何直接抓取服務時間!"
   ]
  },
  {
   "cell_type": "code",
   "execution_count": 34,
   "metadata": {},
   "outputs": [
    {
     "data": {
      "text/plain": [
       "[<td>星期一至五早上8:30至下午5:30</td>]"
      ]
     },
     "execution_count": 34,
     "metadata": {},
     "output_type": "execute_result"
    }
   ],
   "source": [
    "import requests\n",
    "ncdr = requests.get(\"https://www.ncdr.nat.gov.tw/\")\n",
    "soup_ncdr = BeautifulSoup(ncdr.text,\"lxml\")\n",
    "# nth-child => nth-of-type\n",
    "soup_ncdr.select(\"#Service_box > table > tbody > tr:nth-of-type(1) > td:nth-of-type(2)\")"
   ]
  },
  {
   "cell_type": "markdown",
   "metadata": {},
   "source": [
    "# 練習\n",
    "用上述教的select方式，(1)過濾出NCDR首頁上最新發布的電子報標題，並(2)印出純文字"
   ]
  },
  {
   "cell_type": "code",
   "execution_count": 35,
   "metadata": {},
   "outputs": [
    {
     "name": "stdout",
     "output_type": "stream",
     "text": [
      "'第151期 災防告警細胞廣播服務民眾滿意度調查'\n",
      "　　　　　　　　　第151期 災防告警細胞廣播服務民眾滿意度調查\n"
     ]
    }
   ],
   "source": [
    "for string in soup_ncdr.select(\"#ctl08_lbtnNewsletter\")[0].stripped_strings:\n",
    "    print(repr(string))\n",
    "print(soup_ncdr.select(\"#ctl08_lbtnNewsletter\")[0].string)"
   ]
  },
  {
   "cell_type": "markdown",
   "metadata": {},
   "source": [
    "### 解決tag內有其他tag，無法用 .string 取出文字部分\n",
    "* 移除部分搜尋數 .extract\n",
    "* get_text(strip = True)"
   ]
  },
  {
   "cell_type": "code",
   "execution_count": 36,
   "metadata": {},
   "outputs": [
    {
     "data": {
      "text/plain": [
       "1"
      ]
     },
     "execution_count": 36,
     "metadata": {},
     "output_type": "execute_result"
    },
    {
     "data": {
      "text/plain": [
       "<a href=\"javascript:__doPostBack('ctl08$Repeater_Type$ctl01$LinkButton_Link','')\" id=\"ctl08_Repeater_Type_LinkButton_Link_0\"><span id=\"ctl08_Repeater_Type_Label_ModuleName_0\">[中心公告]</span>即時示警資訊分享~歡迎加入帳號，國家災害防救科技中心將會提供您各...\n",
       "                  <img id=\"ctl08_Repeater_Type_Image_News_0\" src=\"App_Themes/new2.gif\"/></a>"
      ]
     },
     "execution_count": 36,
     "metadata": {},
     "output_type": "execute_result"
    },
    {
     "name": "stdout",
     "output_type": "stream",
     "text": [
      "印出的內容:  None\n"
     ]
    },
    {
     "data": {
      "text/plain": [
       "2"
      ]
     },
     "execution_count": 36,
     "metadata": {},
     "output_type": "execute_result"
    },
    {
     "data": {
      "text/plain": [
       "<a href=\"javascript:__doPostBack('ctl08$Repeater_Type$ctl01$LinkButton_Link','')\" id=\"ctl08_Repeater_Type_LinkButton_Link_0\">即時示警資訊分享~歡迎加入帳號，國家災害防救科技中心將會提供您各...\n",
       "                  </a>"
      ]
     },
     "execution_count": 36,
     "metadata": {},
     "output_type": "execute_result"
    },
    {
     "name": "stdout",
     "output_type": "stream",
     "text": [
      "印出的內容:  即時示警資訊分享~歡迎加入帳號，國家災害防救科技中心將會提供您各...\r\n",
      "                  \n"
     ]
    }
   ],
   "source": [
    "# NCDR 取最新消息公告內容\n",
    "with_span = soup_ncdr.select(\"#ctl08_Repeater_Type_LinkButton_Link_0\")[0]\n",
    "1 #extract 前\n",
    "with_span\n",
    "print(\"印出的內容: \",with_span.string)\n",
    "span = with_span.span.extract()\n",
    "span = with_span.img.extract()\n",
    "2 #extract 後\n",
    "with_span\n",
    "#這樣就可以順利地取出文字內容了!\n",
    "print(\"印出的內容: \",with_span.string)"
   ]
  },
  {
   "cell_type": "code",
   "execution_count": 31,
   "metadata": {},
   "outputs": [
    {
     "data": {
      "text/plain": [
       "<a href=\"javascript:__doPostBack('ctl08$Repeater_Type$ctl01$LinkButton_Link','')\" id=\"ctl08_Repeater_Type_LinkButton_Link_0\">即時示警資訊分享~歡迎加入帳號，國家災害防救科技中心將會提供您各...\n",
       "                  <img id=\"ctl08_Repeater_Type_Image_News_0\" src=\"App_Themes/new2.gif\"/></a>"
      ]
     },
     "execution_count": 31,
     "metadata": {},
     "output_type": "execute_result"
    }
   ],
   "source": [
    "with_span = soup_ncdr.select(\"#ctl08_Repeater_Type_LinkButton_Link_0\")[0]\n",
    "with_span"
   ]
  },
  {
   "cell_type": "code",
   "execution_count": 19,
   "metadata": {},
   "outputs": [
    {
     "data": {
      "text/plain": [
       "'[活動訊息]災害管理科普演講系列活動(03)_防災社區: 『防汛深根 在地傳...\\r\\n                \\xa0\\xa0'"
      ]
     },
     "execution_count": 19,
     "metadata": {},
     "output_type": "execute_result"
    },
    {
     "data": {
      "text/plain": [
       "'[活動訊息]災害管理科普演講系列活動(03)_防災社區: 『防汛深根 在地傳...'"
      ]
     },
     "execution_count": 19,
     "metadata": {},
     "output_type": "execute_result"
    }
   ],
   "source": [
    "soup_ncdr.select(\"#ctl08_Repeater_Type_LinkButton_Link_2\")[0].get_text()\n",
    "soup_ncdr.select(\"#ctl08_Repeater_Type_LinkButton_Link_2\")[0].get_text(strip=True)"
   ]
  },
  {
   "cell_type": "code",
   "execution_count": null,
   "metadata": {
    "collapsed": true
   },
   "outputs": [],
   "source": []
  }
 ],
 "metadata": {
  "kernelspec": {
   "display_name": "Python 3",
   "language": "python",
   "name": "python3"
  },
  "language_info": {
   "codemirror_mode": {
    "name": "ipython",
    "version": 3
   },
   "file_extension": ".py",
   "mimetype": "text/x-python",
   "name": "python",
   "nbconvert_exporter": "python",
   "pygments_lexer": "ipython3",
   "version": "3.6.2"
  }
 },
 "nbformat": 4,
 "nbformat_minor": 2
}
