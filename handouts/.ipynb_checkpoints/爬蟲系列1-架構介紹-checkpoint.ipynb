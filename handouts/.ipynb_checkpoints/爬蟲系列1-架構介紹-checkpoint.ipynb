{
 "cells": [
  {
   "cell_type": "markdown",
   "metadata": {
    "slideshow": {
     "slide_type": "slide"
    }
   },
   "source": [
    "# 事前下載!!\n",
    "\n",
    "1. [Quick Javascript switcher](https://chrome.google.com/webstore/detail/quick-javascript-switcher/geddoclleiomckbhadiaipdggiiccfje)\n",
    "2. [Postman](https://chrome.google.com/webstore/detail/postman/fhbjgbiflinjbdggehcddcbncdddomop?hl=zh-TW)\n",
    "3. chrome! 本次教學會用 chrome 瀏覽器，請大家要下載!"
   ]
  },
  {
   "cell_type": "markdown",
   "metadata": {
    "slideshow": {
     "slide_type": "subslide"
    }
   },
   "source": [
    "# 爬蟲系列-1 架構介紹\n",
    "在進入爬蟲coding前，我們必須先了解網路是如何運作的，網頁的背後是甚麼機制讓我們看到瀏覽器所呈現的網頁?瀏覽器又是什麼東西?所以在爬蟲系列課程的第一步是要介紹關於網路的背景知識，這些知識可以在未來幫助我們debug、分析網頁與資料。"
   ]
  },
  {
   "cell_type": "markdown",
   "metadata": {
    "slideshow": {
     "slide_type": "slide"
    }
   },
   "source": [
    "爬蟲概論\n",
    "===\n",
    "Tips for crawlers:\n",
    "1. 有沒有別人寫好的 code\n",
    "2. 該網站是否已經提供 API 接口\n",
    "* 盡量不要造成別人伺服器的負擔!\n",
    "\n",
    "## 基本分類\n",
    "* 靜態爬蟲: 透過 get, post 獲取頁面資訊，依照不同網站架構，可能需要多次的 request\n",
    "    * Text\n",
    "    * Image\n",
    "    * file\n",
    "* 網站爬蟲: 將整個網站架構下的所有頁面進行爬取 (可以多利用框架如 Scrapy 來執行) [blog](http://woodenrobot.me/2017/04/09/Scrapy%E7%88%AC%E8%99%AB%E6%A1%86%E6%9E%B6%E6%95%99%E7%A8%8B%EF%BC%88%E5%9B%9B%EF%BC%89-%E6%8A%93%E5%8F%96AJAX%E5%BC%82%E6%AD%A5%E5%8A%A0%E8%BD%BD%E7%BD%91%E9%A1%B5/)\n",
    "* 動態爬蟲: 是透過 javascript 即時生成資料，無法直接從網頁原始碼中獲得，需要透過模擬瀏覽器或自己找出網址、程式碼生成邏輯來處理。[Quick Javascript switcher](https://chrome.google.com/webstore/detail/quick-javascript-switcher/geddoclleiomckbhadiaipdggiiccfje)\n",
    "    * 可解析 => 獲取資訊重複爬取\n",
    "    * 不可解析 => 模擬瀏覽器\n",
    "\n",
    "## 了解網頁架構\n",
    "![](https://i.imgur.com/1wwd9ZC.png)\n",
    "* HTML (HyperText Markup Language)\n",
    "![](https://i.imgur.com/zQWDqm7.png)\n",
    "還是沒什麼感覺?\n",
    "實際來看看[網站](https://www.ncdr.nat.gov.tw/)吧!\n",
    "\n",
    "### HTTP 標籤\n",
    "![](https://i.imgur.com/CEo2YYT.png)\n",
    "\n",
    "例子:\n",
    "`<p class=\"Hi!我是attributes\">   Hi!我是contents  </p>`\n",
    "\n",
    "|標籤名稱|用途|\n",
    "| -------- | -------- | \n",
    "|`<h1> -<h6>`|標題|\n",
    "|`<p>`|段落|\n",
    "|`<a>`|超連結|\n",
    "|`<table>`|表格|\n",
    "|`<tr>`|表格內的row|\n",
    "|`<td>`|表格內的cell|\n",
    "|`<br/>`|換行(無結束標籤)|\n",
    "\n",
    "|屬性名稱|意義|\n",
    "| -------- | -------- | \n",
    "|**class**|標籤的類別(可重複)|\n",
    "|**id**|標籤的id(不可重複)|\n",
    "|title|標籤的顯示資訊|\n",
    "|style|標籤的樣式|\n",
    "|**href**|超連結|\n",
    "|data-*|自行定義新的屬性|\n",
    "\n",
    "### HTTP 協定 \n",
    "**請求（request）& 回應（response）**\n",
    "\n",
    "HTTP是一個用戶端終端（用戶）和伺服器端（網站）請求和應答的標準（TCP）。通過使用網頁瀏覽器、網路爬蟲或者其它的工具，用戶端發起一個HTTP請求到伺服器上指定埠（預設埠為80）。其中我們稱這個用戶端為用戶代理程式（user agent）。HTTP/2 為目前版本，於2015年5月作為網際網路標準正式發布。  --- from wiki\n",
    "![](https://i.imgur.com/asi3Pq9.png)\n",
    "\n",
    "\n",
    "* 請求方法 (request)\n",
    "\n",
    "| 方法(動作)| 解釋 (modified from wiki) |\n",
    "| -------- | -------- | \n",
    "| **GET**     | 向指定的資源發出「顯示」請求，只用在讀取資料 | \n",
    "|HEAD|與GET方法一樣，但伺服器將不傳回資源的本文部份。|\n",
    "|**POST**|向指定資源提交資料，請求伺服器進行處理。|\n",
    "|PUT|向指定資源位置上傳其最新內容。|\n",
    "|DELETE|請求伺服器刪除Request-URI所標識的資源。|\n",
    "|TRACE|回顯伺服器收到的請求，主要用於測試或診斷。|\n",
    "|OPTIONS|使伺服器傳回該資源所支援的所有HTTP請求方法。|\n",
    "|CONNECT|HTTP/1.1協定中預留給能夠將連線改為管道方式的代理伺服器。|\n",
    "\n",
    "* 狀態碼\n",
    "    -   [1xx訊息](https://zh.wikipedia.org/wiki/HTTP%E7%8A%B6%E6%80%81%E7%A0%81#1xx%E6%B6%88%E6%81%AF \"HTTP狀態碼\")——請求已被伺服器接收，繼續處理\n",
    "    -   [2xx成功](https://zh.wikipedia.org/wiki/HTTP%E7%8A%B6%E6%80%81%E7%A0%81#2xx%E6%88%90%E5%8A%9F \"HTTP狀態碼\")——請求已成功被伺服器接收、理解、並接受  EX: 200 OK\n",
    "    -   [3xx重新導向](https://zh.wikipedia.org/wiki/HTTP%E7%8A%B6%E6%80%81%E7%A0%81#3xx%E9%87%8D%E5%AE%9A%E5%90%91 \"HTTP狀態碼\")——需要後續操作才能完成這一請求\n",
    "    -   [4xx請求錯誤](https://zh.wikipedia.org/wiki/HTTP%E7%8A%B6%E6%80%81%E7%A0%81#4xx%E8%AF%B7%E6%B1%82%E9%94%99%E8%AF%AF \"HTTP狀態碼\")——請求含有詞法錯誤或者無法被執行  EX: 404 Not Found\n",
    "    -   [5xx伺服器錯誤](https://zh.wikipedia.org/wiki/HTTP%E7%8A%B6%E6%80%81%E7%A0%81#5xx%E6%9C%8D%E5%8A%A1%E5%99%A8%E9%94%99%E8%AF%AF \"HTTP狀態碼\")——伺服器在處理某個正確請求時發生錯誤\n",
    "\n",
    "* Header\n",
    "    -   通用頭欄位(英語：General Header Fields)\n",
    "    -   請求頭欄位(英語：Request Header Fields)\n",
    "    -   回應頭欄位(英語：Response Header Fields)\n",
    "    -   實體頭欄位(英語：Entity Header Fields)\n",
    "\n",
    "定義了一個HTTP協定事務中的操作參數，可分為四類。 [wiki](https://zh.wikipedia.org/wiki/HTTP%E5%A4%B4%E5%AD%97%E6%AE%B5)\n",
    "\n",
    "\n",
    "\n",
    "讓我們把網頁[原始碼變漂亮](https://www.cleancss.com/html-beautify/)吧!\n",
    "\n",
    "### 所以到底什麼是 \"請求(request)\" & \"回應(response)\" 呢?\n",
    "下載 [**Postman**](https://chrome.google.com/webstore/detail/postman/fhbjgbiflinjbdggehcddcbncdddomop?hl=zh-TW) Google Chrome plugin 來實際體驗看看吧!\n",
    "\n",
    "in Python EX: [高鐵](https://www.thsrc.com.tw/tw/TimeTable/SearchResult)\n",
    "\n",
    "**Form Data** 是用 post 時，需要傳給 server 的資料!\n",
    "```\n",
    "form_data = {\n",
    "\"StartStation\":\"2f940836-cedc-41ef-8e28-c2336ac8fe68\",\n",
    "\"EndStation\":\"e6e26e66-7dc1-458f-b2f3-71ce65fdc95f\",\n",
    "\"SearchDate\":\"2017/08/13\",\n",
    "\"SearchTime\":\"20:30\",\n",
    "\"SearchWay\":\"DepartureInMandarin\"}\n",
    "\n",
    "response_post = requests.post(\"https://www.thsrc.com.tw/tw/TimeTable/SearchResult\", data = form_data)\n",
    "```"
   ]
  },
  {
   "cell_type": "markdown",
   "metadata": {
    "slideshow": {
     "slide_type": "slide"
    }
   },
   "source": [
    "# 高鐵案例 - How do we know the station code \n",
    "![](https://i.imgur.com/hDEy0hs.png)"
   ]
  },
  {
   "cell_type": "markdown",
   "metadata": {
    "slideshow": {
     "slide_type": "slide"
    }
   },
   "source": [
    "# Practice\n",
    "1. 找出 **2018/3/10** **台北**到**台南** **12:00** 前**到達**的搜尋班次結果。\n",
    "2. 並用 Pandas 做成 dataframe 後，**輸出成 CSV 檔**。\n",
    "3. 請問這樣的爬取形式是否為動態(或該網頁是否為動態網頁)，如何確認?\n",
    "\n",
    "說明: <br> \n",
    "其他函數都已寫好，看不懂沒關係，下堂課會針對code部分進行講解與練習。\n",
    "請以今日所學，試著將下列空白處正確填寫，取出指定資料。"
   ]
  },
  {
   "cell_type": "code",
   "execution_count": 1,
   "metadata": {
    "slideshow": {
     "slide_type": "slide"
    }
   },
   "outputs": [
    {
     "data": {
      "text/html": [
       "<div>\n",
       "<style scoped>\n",
       "    .dataframe tbody tr th:only-of-type {\n",
       "        vertical-align: middle;\n",
       "    }\n",
       "\n",
       "    .dataframe tbody tr th {\n",
       "        vertical-align: top;\n",
       "    }\n",
       "\n",
       "    .dataframe thead th {\n",
       "        text-align: right;\n",
       "    }\n",
       "</style>\n",
       "<table border=\"1\" class=\"dataframe\">\n",
       "  <thead>\n",
       "    <tr style=\"text-align: right;\">\n",
       "      <th></th>\n",
       "      <th>車次</th>\n",
       "      <th>出發時間</th>\n",
       "      <th>抵達時間</th>\n",
       "      <th>行車時間</th>\n",
       "    </tr>\n",
       "  </thead>\n",
       "  <tbody>\n",
       "    <tr>\n",
       "      <th>0</th>\n",
       "      <td>0609</td>\n",
       "      <td>07:46</td>\n",
       "      <td>09:32</td>\n",
       "      <td>01:46</td>\n",
       "    </tr>\n",
       "    <tr>\n",
       "      <th>1</th>\n",
       "      <td>0809</td>\n",
       "      <td>08:11</td>\n",
       "      <td>10:11</td>\n",
       "      <td>02:00</td>\n",
       "    </tr>\n",
       "    <tr>\n",
       "      <th>2</th>\n",
       "      <td>0613</td>\n",
       "      <td>08:21</td>\n",
       "      <td>10:06</td>\n",
       "      <td>01:45</td>\n",
       "    </tr>\n",
       "    <tr>\n",
       "      <th>3</th>\n",
       "      <td>0615</td>\n",
       "      <td>08:46</td>\n",
       "      <td>10:32</td>\n",
       "      <td>01:46</td>\n",
       "    </tr>\n",
       "    <tr>\n",
       "      <th>4</th>\n",
       "      <td>1209</td>\n",
       "      <td>08:51</td>\n",
       "      <td>10:17</td>\n",
       "      <td>01:26</td>\n",
       "    </tr>\n",
       "    <tr>\n",
       "      <th>5</th>\n",
       "      <td>0813</td>\n",
       "      <td>09:11</td>\n",
       "      <td>11:11</td>\n",
       "      <td>02:00</td>\n",
       "    </tr>\n",
       "    <tr>\n",
       "      <th>6</th>\n",
       "      <td>0619</td>\n",
       "      <td>09:21</td>\n",
       "      <td>11:06</td>\n",
       "      <td>01:45</td>\n",
       "    </tr>\n",
       "    <tr>\n",
       "      <th>7</th>\n",
       "      <td>0621</td>\n",
       "      <td>09:46</td>\n",
       "      <td>11:32</td>\n",
       "      <td>01:46</td>\n",
       "    </tr>\n",
       "    <tr>\n",
       "      <th>8</th>\n",
       "      <td>1213</td>\n",
       "      <td>09:51</td>\n",
       "      <td>11:17</td>\n",
       "      <td>01:26</td>\n",
       "    </tr>\n",
       "    <tr>\n",
       "      <th>9</th>\n",
       "      <td>1309</td>\n",
       "      <td>10:01</td>\n",
       "      <td>11:47</td>\n",
       "      <td>01:46</td>\n",
       "    </tr>\n",
       "  </tbody>\n",
       "</table>\n",
       "</div>"
      ],
      "text/plain": [
       "     車次   出發時間   抵達時間   行車時間\n",
       "0  0609  07:46  09:32  01:46\n",
       "1  0809  08:11  10:11  02:00\n",
       "2  0613  08:21  10:06  01:45\n",
       "3  0615  08:46  10:32  01:46\n",
       "4  1209  08:51  10:17  01:26\n",
       "5  0813  09:11  11:11  02:00\n",
       "6  0619  09:21  11:06  01:45\n",
       "7  0621  09:46  11:32  01:46\n",
       "8  1213  09:51  11:17  01:26\n",
       "9  1309  10:01  11:47  01:46"
      ]
     },
     "execution_count": 1,
     "metadata": {},
     "output_type": "execute_result"
    }
   ],
   "source": [
    "import requests\n",
    "import pandas as pd\n",
    "from bs4 import BeautifulSoup\n",
    "# 建立 post 時所用的資訊，以 dictionary 的形式\n",
    "form_data = {\n",
    "\"StartStation\":\"977abb69-413a-4ccf-a109-0272c24fd490\", # 台北\n",
    "\"EndStation\":\"9c5ac6ca-ec89-48f8-aab0-41b738cb1814\", # 台南\n",
    "\"SearchDate\":\"2018/03/10\",\n",
    "\"SearchTime\":\"12:00\",\n",
    "\"SearchWay\":\"ArrivalInMandarin\"\n",
    "}\n",
    "\n",
    "# 下載並 parse (看不懂跳過)\n",
    "response_post = requests.post(\"https://www.thsrc.com.tw/tw/TimeTable/SearchResult\", data = form_data)\n",
    "soup_post = BeautifulSoup(response_post.text, \"lxml\")\n",
    "\n",
    "# 以迴圈方式取出資料  => 請找出相應標籤的屬性\n",
    "train_number= [tag.text for tag in soup_post.find_all(\"td\", class_= \"column1\" )] # td 為標籤、class_ 為屬性\n",
    "departure = [tag.text for tag in soup_post.find_all(\"td\", class_=\"column3\")] # 出發時間\n",
    "arrival = [tag.text for tag in soup_post.find_all(\"td\", class_=\"column4\")] # 抵達時間\n",
    "travel_time= [tag.text for tag in soup_post.find_all(\"td\", class_= \"column2\" )] # 行車時間\n",
    "\n",
    "#建立 dataframe\n",
    "HST_df = pd.DataFrame(\n",
    "{\"車次\":train_number,\n",
    "\"出發時間\":departure,\n",
    "\"抵達時間\":arrival,\n",
    "\"行車時間\":travel_time},\n",
    "columns = [\"車次\", \"出發時間\", \"抵達時間\", \"行車時間\"])\n",
    "HST_df\n",
    "\n",
    "# 輸出成 CSV\n",
    "#HST_df.to_csv(\"HST_schedule.csv\", index = False, encoding = \"cp950\")\n"
   ]
  },
  {
   "cell_type": "code",
   "execution_count": null,
   "metadata": {
    "collapsed": true,
    "slideshow": {
     "slide_type": "subslide"
    }
   },
   "outputs": [],
   "source": [
    "HST_df"
   ]
  },
  {
   "cell_type": "markdown",
   "metadata": {
    "slideshow": {
     "slide_type": "subslide"
    }
   },
   "source": [
    "## 預期結果\n",
    "![](https://i.imgur.com/RqQf5YB.png)"
   ]
  },
  {
   "cell_type": "markdown",
   "metadata": {},
   "source": [
    "# Bonus\n",
    "參考上述程式碼，爬取並輸出站名與其post用代碼"
   ]
  },
  {
   "cell_type": "code",
   "execution_count": null,
   "metadata": {
    "collapsed": true
   },
   "outputs": [],
   "source": []
  }
 ],
 "metadata": {
  "celltoolbar": "Slideshow",
  "kernelspec": {
   "display_name": "Python 3",
   "language": "python",
   "name": "python3"
  },
  "language_info": {
   "codemirror_mode": {
    "name": "ipython",
    "version": 3
   },
   "file_extension": ".py",
   "mimetype": "text/x-python",
   "name": "python",
   "nbconvert_exporter": "python",
   "pygments_lexer": "ipython3",
   "version": "3.6.2"
  }
 },
 "nbformat": 4,
 "nbformat_minor": 2
}
